{
 "cells": [
  {
   "cell_type": "markdown",
   "metadata": {},
   "source": [
    "# EDA of Boston Housing Price Prediction Dataset"
   ]
  },
  {
   "cell_type": "markdown",
   "metadata": {},
   "source": [
    "## About\n",
    "\n",
    "This is the analysis of the boston housing data, it is a guided data analysis from a udemy course Data Visualization in Python Masterclass: Beginners to Pro by Laxmi Kant | KGP Talkie\n",
    "\n",
    "Instructor: AVP Data Science Join Bentures | IIT Kharagpur"
   ]
  },
  {
   "cell_type": "markdown",
   "metadata": {},
   "source": [
    "## What is EDA\n",
    "\n",
    "\n",
    "Exploratory Data Analysis is a technique which is used to understand the data\n",
    "- maximize insight into a data set\n",
    "- uncover underlying structure\n",
    "- extract important variables\n",
    "- detect outliers and anomalies\n",
    "- test underlying assumptions\n",
    "- detemine optiomal factor settings"
   ]
  },
  {
   "cell_type": "markdown",
   "metadata": {},
   "source": [
    "## Data Preparation"
   ]
  },
  {
   "cell_type": "code",
   "execution_count": null,
   "metadata": {},
   "outputs": [],
   "source": [
    "import numpy as np\n",
    "import pandas as pd\n",
    "import matplotlib.pyplot as plt\n",
    "#helps with plotting within jupyter notebook itself\n",
    "%matplotlib inline"
   ]
  }
 ],
 "metadata": {
  "language_info": {
   "name": "python"
  },
  "orig_nbformat": 4
 },
 "nbformat": 4,
 "nbformat_minor": 2
}
