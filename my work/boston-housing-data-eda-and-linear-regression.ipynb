{
 "cells": [
  {
   "cell_type": "markdown",
   "metadata": {},
   "source": [
    "# EDA of Boston Housing Price Prediction Dataset"
   ]
  },
  {
   "cell_type": "markdown",
   "metadata": {},
   "source": [
    "## About\n",
    "\n",
    "This is the analysis of the boston housing data, it is a guided data analysis from a udemy course Data Visualization in Python Masterclass: Beginners to Pro by Laxmi Kant | KGP Talkie\n",
    "\n",
    "Instructor: AVP Data Science Join Bentures | IIT Kharagpur"
   ]
  }
 ],
 "metadata": {
  "language_info": {
   "name": "python"
  },
  "orig_nbformat": 4
 },
 "nbformat": 4,
 "nbformat_minor": 2
}
