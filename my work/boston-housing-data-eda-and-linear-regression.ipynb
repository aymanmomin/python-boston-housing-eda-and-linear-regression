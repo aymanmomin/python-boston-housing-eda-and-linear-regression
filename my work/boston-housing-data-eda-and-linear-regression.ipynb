{
 "cells": [
  {
   "cell_type": "markdown",
   "metadata": {},
   "source": [
    "# EDA of Boston Housing Price Prediction Dataset"
   ]
  },
  {
   "cell_type": "markdown",
   "metadata": {},
   "source": [
    "## About\n",
    "\n",
    "This is the analysis of the boston housing data, it is a guided data analysis from a udemy course Data Visualization in Python Masterclass: Beginners to Pro by Laxmi Kant | KGP Talkie\n",
    "\n",
    "Instructor: AVP Data Science Join Bentures | IIT Kharagpur"
   ]
  },
  {
   "cell_type": "markdown",
   "metadata": {},
   "source": [
    "## What is EDA\n",
    "\n",
    "\n",
    "Exploratory Data Analysis is a technique which is used to understand the data\n",
    "- maximize insight into a data set\n",
    "- uncover underlying structure\n",
    "- extract important variables\n",
    "- detect outliers and anomalies\n",
    "- test underlying assumptions\n",
    "- detemine optiomal factor settings"
   ]
  }
 ],
 "metadata": {
  "language_info": {
   "name": "python"
  },
  "orig_nbformat": 4
 },
 "nbformat": 4,
 "nbformat_minor": 2
}
